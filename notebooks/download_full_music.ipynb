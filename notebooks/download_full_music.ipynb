{
 "cells": [
  {
   "cell_type": "code",
   "execution_count": 105,
   "outputs": [],
   "source": [
    "import re\n",
    "import os\n",
    "from pytube import YouTube\n",
    "import pandas as pd\n",
    "from tqdm import tqdm"
   ],
   "metadata": {
    "collapsed": false,
    "pycharm": {
     "name": "#%%\n"
    }
   }
  },
  {
   "cell_type": "code",
   "execution_count": 106,
   "outputs": [
    {
     "name": "stdout",
     "output_type": "stream",
     "text": [
      "<class 'pandas.core.frame.DataFrame'>\n",
      "RangeIndex: 5523 entries, 0 to 5522\n",
      "Data columns (total 4 columns):\n",
      " #   Column       Non-Null Count  Dtype \n",
      "---  ------       --------------  ----- \n",
      " 0   id           5523 non-null   object\n",
      " 1   ondblclick   5523 non-null   object\n",
      " 2   onmouseover  5523 non-null   object\n",
      " 3   class        5523 non-null   object\n",
      "dtypes: object(4)\n",
      "memory usage: 172.7+ KB\n"
     ]
    }
   ],
   "source": [
    "\n",
    "data = pd.read_csv('/Users/amirdjanibekov/Documents/MBZUAI/NLP703/nlp703-speech-processing/csv/all_music_genre_wo_text.csv', encoding='UTF-8')\n",
    "data.info()"
   ],
   "metadata": {
    "collapsed": false,
    "pycharm": {
     "name": "#%%\n"
    }
   }
  },
  {
   "cell_type": "code",
   "execution_count": 107,
   "outputs": [
    {
     "data": {
      "text/plain": "      id                                         ondblclick   \n0  item1  window.open(\"https://www.amazon.com/dp/B00B6N6...  \\\n1  item2  window.open(\"https://www.youtube.com/watch?v=0...   \n2  item3  window.open(\"https://www.youtube.com/watch?v=0...   \n3  item4  window.open(\"https://www.youtube.com/watch?v=0...   \n4  item5  window.open(\"https://www.youtube.com/watch?v=0...   \n\n                                         onmouseover class  \n0  playx(\"01 - Tree Dance&1.mp3\", \"1\", \"57% Calm,...     E  \n1  playx(\"04F4xlWSFh0_18.mp3\", \"2\", \"42% Energizi...     G  \n2  playx(\"04F4xlWSFh0_75.mp3\", \"3\", \"50% Energizi...     G  \n3  playx(\"05UApr2UQHQ_227.mp3\", \"4\", \"20% Calm, r...     F  \n4  playx(\"073TNjLc070_40.mp3\", \"5\", \"29% Energizi...     G  ",
      "text/html": "<div>\n<style scoped>\n    .dataframe tbody tr th:only-of-type {\n        vertical-align: middle;\n    }\n\n    .dataframe tbody tr th {\n        vertical-align: top;\n    }\n\n    .dataframe thead th {\n        text-align: right;\n    }\n</style>\n<table border=\"1\" class=\"dataframe\">\n  <thead>\n    <tr style=\"text-align: right;\">\n      <th></th>\n      <th>id</th>\n      <th>ondblclick</th>\n      <th>onmouseover</th>\n      <th>class</th>\n    </tr>\n  </thead>\n  <tbody>\n    <tr>\n      <th>0</th>\n      <td>item1</td>\n      <td>window.open(\"https://www.amazon.com/dp/B00B6N6...</td>\n      <td>playx(\"01 - Tree Dance&amp;1.mp3\", \"1\", \"57% Calm,...</td>\n      <td>E</td>\n    </tr>\n    <tr>\n      <th>1</th>\n      <td>item2</td>\n      <td>window.open(\"https://www.youtube.com/watch?v=0...</td>\n      <td>playx(\"04F4xlWSFh0_18.mp3\", \"2\", \"42% Energizi...</td>\n      <td>G</td>\n    </tr>\n    <tr>\n      <th>2</th>\n      <td>item3</td>\n      <td>window.open(\"https://www.youtube.com/watch?v=0...</td>\n      <td>playx(\"04F4xlWSFh0_75.mp3\", \"3\", \"50% Energizi...</td>\n      <td>G</td>\n    </tr>\n    <tr>\n      <th>3</th>\n      <td>item4</td>\n      <td>window.open(\"https://www.youtube.com/watch?v=0...</td>\n      <td>playx(\"05UApr2UQHQ_227.mp3\", \"4\", \"20% Calm, r...</td>\n      <td>F</td>\n    </tr>\n    <tr>\n      <th>4</th>\n      <td>item5</td>\n      <td>window.open(\"https://www.youtube.com/watch?v=0...</td>\n      <td>playx(\"073TNjLc070_40.mp3\", \"5\", \"29% Energizi...</td>\n      <td>G</td>\n    </tr>\n  </tbody>\n</table>\n</div>"
     },
     "execution_count": 107,
     "metadata": {},
     "output_type": "execute_result"
    }
   ],
   "source": [
    "data.head()"
   ],
   "metadata": {
    "collapsed": false,
    "pycharm": {
     "name": "#%%\n"
    }
   }
  },
  {
   "cell_type": "code",
   "execution_count": 108,
   "outputs": [],
   "source": [
    "data['link'] = data['ondblclick'].apply(\n",
    "    lambda x: (\n",
    "            re.search(r'(?P<link>https.*)\",',x) or\n",
    "            re.search(r'(?P<link>.*)', x)\n",
    "    ).group('link')\n",
    ")\n",
    "data['domain'] = data['ondblclick'].apply(\n",
    "    lambda x: (\n",
    "            re.search(r'www\\.(?P<domain>.*)\\.\\w',x) or\n",
    "            re.search(r'(?P<domain>.*)', x)\n",
    "    ).group('domain')\n",
    ")"
   ],
   "metadata": {
    "collapsed": false,
    "pycharm": {
     "name": "#%%\n"
    }
   }
  },
  {
   "cell_type": "code",
   "execution_count": 109,
   "outputs": [
    {
     "data": {
      "text/plain": "domain\nyoutube                                                                         0.884845\ngoogle                                                                          0.054861\nwoodzie                                                                         0.050516\nwagnerheim                                                                      0.007605\nwindow.open(\"http://music.sailingconductors.com/track/nocturne\",\"mywindow\");    0.001630\namazon                                                                          0.000543\nName: proportion, dtype: float64"
     },
     "execution_count": 109,
     "metadata": {},
     "output_type": "execute_result"
    }
   ],
   "source": [
    "data['domain'].value_counts(normalize=True)"
   ],
   "metadata": {
    "collapsed": false,
    "pycharm": {
     "name": "#%%\n"
    }
   }
  },
  {
   "cell_type": "code",
   "execution_count": 110,
   "outputs": [
    {
     "data": {
      "text/plain": "            id                                         ondblclick   \n1        item2  window.open(\"https://www.youtube.com/watch?v=0...  \\\n2        item3  window.open(\"https://www.youtube.com/watch?v=0...   \n3        item4  window.open(\"https://www.youtube.com/watch?v=0...   \n4        item5  window.open(\"https://www.youtube.com/watch?v=0...   \n5        item6  window.open(\"https://www.youtube.com/watch?v=0...   \n...        ...                                                ...   \n5518  item1837  window.open(\"https://www.youtube.com/watch?v=z...   \n5519  item1838  window.open(\"https://www.youtube.com/watch?v=z...   \n5520  item1839  window.open(\"https://www.youtube.com/watch?v=z...   \n5521  item1840  window.open(\"https://www.youtube.com/watch?v=z...   \n5522  item1841  window.open(\"https://www.youtube.com/watch?v=z...   \n\n                                            onmouseover class   \n1     playx(\"04F4xlWSFh0_18.mp3\", \"2\", \"42% Energizi...     G  \\\n2     playx(\"04F4xlWSFh0_75.mp3\", \"3\", \"50% Energizi...     G   \n3     playx(\"05UApr2UQHQ_227.mp3\", \"4\", \"20% Calm, r...     F   \n4     playx(\"073TNjLc070_40.mp3\", \"5\", \"29% Energizi...     G   \n5     playx(\"0DugzooGWKk_1.mp3\", \"6\", \"31% Calm, rel...     J   \n...                                                 ...   ...   \n5518  playx(\"zhRzORqNa0E_5.mp3\", \"1837\", \"34% Beauti...     E   \n5519  playx(\"zk93KbUtFyA_6.mp3\", \"1838\", \"50% Energi...     G   \n5520  playx(\"zn9vVjg0kZU_1027.mp3\", \"1839\", \"41% Cal...     F   \n5521  playx(\"zn9vVjg0kZU_13.mp3\", \"1840\", \"50% Calm,...     E   \n5522  playx(\"znsUh6vBWLI_22.mp3\", \"1841\", \"43% Dream...     F   \n\n                                             link   domain  \n1     https://www.youtube.com/watch?v=04F4xlWSFh0  youtube  \n2     https://www.youtube.com/watch?v=04F4xlWSFh0  youtube  \n3     https://www.youtube.com/watch?v=05UApr2UQHQ  youtube  \n4     https://www.youtube.com/watch?v=073TNjLc070  youtube  \n5     https://www.youtube.com/watch?v=0DugzooGWKk  youtube  \n...                                           ...      ...  \n5518  https://www.youtube.com/watch?v=zhRzORqNa0E  youtube  \n5519  https://www.youtube.com/watch?v=zk93KbUtFyA  youtube  \n5520  https://www.youtube.com/watch?v=zn9vVjg0kZU  youtube  \n5521  https://www.youtube.com/watch?v=zn9vVjg0kZU  youtube  \n5522  https://www.youtube.com/watch?v=znsUh6vBWLI  youtube  \n\n[4887 rows x 6 columns]",
      "text/html": "<div>\n<style scoped>\n    .dataframe tbody tr th:only-of-type {\n        vertical-align: middle;\n    }\n\n    .dataframe tbody tr th {\n        vertical-align: top;\n    }\n\n    .dataframe thead th {\n        text-align: right;\n    }\n</style>\n<table border=\"1\" class=\"dataframe\">\n  <thead>\n    <tr style=\"text-align: right;\">\n      <th></th>\n      <th>id</th>\n      <th>ondblclick</th>\n      <th>onmouseover</th>\n      <th>class</th>\n      <th>link</th>\n      <th>domain</th>\n    </tr>\n  </thead>\n  <tbody>\n    <tr>\n      <th>1</th>\n      <td>item2</td>\n      <td>window.open(\"https://www.youtube.com/watch?v=0...</td>\n      <td>playx(\"04F4xlWSFh0_18.mp3\", \"2\", \"42% Energizi...</td>\n      <td>G</td>\n      <td>https://www.youtube.com/watch?v=04F4xlWSFh0</td>\n      <td>youtube</td>\n    </tr>\n    <tr>\n      <th>2</th>\n      <td>item3</td>\n      <td>window.open(\"https://www.youtube.com/watch?v=0...</td>\n      <td>playx(\"04F4xlWSFh0_75.mp3\", \"3\", \"50% Energizi...</td>\n      <td>G</td>\n      <td>https://www.youtube.com/watch?v=04F4xlWSFh0</td>\n      <td>youtube</td>\n    </tr>\n    <tr>\n      <th>3</th>\n      <td>item4</td>\n      <td>window.open(\"https://www.youtube.com/watch?v=0...</td>\n      <td>playx(\"05UApr2UQHQ_227.mp3\", \"4\", \"20% Calm, r...</td>\n      <td>F</td>\n      <td>https://www.youtube.com/watch?v=05UApr2UQHQ</td>\n      <td>youtube</td>\n    </tr>\n    <tr>\n      <th>4</th>\n      <td>item5</td>\n      <td>window.open(\"https://www.youtube.com/watch?v=0...</td>\n      <td>playx(\"073TNjLc070_40.mp3\", \"5\", \"29% Energizi...</td>\n      <td>G</td>\n      <td>https://www.youtube.com/watch?v=073TNjLc070</td>\n      <td>youtube</td>\n    </tr>\n    <tr>\n      <th>5</th>\n      <td>item6</td>\n      <td>window.open(\"https://www.youtube.com/watch?v=0...</td>\n      <td>playx(\"0DugzooGWKk_1.mp3\", \"6\", \"31% Calm, rel...</td>\n      <td>J</td>\n      <td>https://www.youtube.com/watch?v=0DugzooGWKk</td>\n      <td>youtube</td>\n    </tr>\n    <tr>\n      <th>...</th>\n      <td>...</td>\n      <td>...</td>\n      <td>...</td>\n      <td>...</td>\n      <td>...</td>\n      <td>...</td>\n    </tr>\n    <tr>\n      <th>5518</th>\n      <td>item1837</td>\n      <td>window.open(\"https://www.youtube.com/watch?v=z...</td>\n      <td>playx(\"zhRzORqNa0E_5.mp3\", \"1837\", \"34% Beauti...</td>\n      <td>E</td>\n      <td>https://www.youtube.com/watch?v=zhRzORqNa0E</td>\n      <td>youtube</td>\n    </tr>\n    <tr>\n      <th>5519</th>\n      <td>item1838</td>\n      <td>window.open(\"https://www.youtube.com/watch?v=z...</td>\n      <td>playx(\"zk93KbUtFyA_6.mp3\", \"1838\", \"50% Energi...</td>\n      <td>G</td>\n      <td>https://www.youtube.com/watch?v=zk93KbUtFyA</td>\n      <td>youtube</td>\n    </tr>\n    <tr>\n      <th>5520</th>\n      <td>item1839</td>\n      <td>window.open(\"https://www.youtube.com/watch?v=z...</td>\n      <td>playx(\"zn9vVjg0kZU_1027.mp3\", \"1839\", \"41% Cal...</td>\n      <td>F</td>\n      <td>https://www.youtube.com/watch?v=zn9vVjg0kZU</td>\n      <td>youtube</td>\n    </tr>\n    <tr>\n      <th>5521</th>\n      <td>item1840</td>\n      <td>window.open(\"https://www.youtube.com/watch?v=z...</td>\n      <td>playx(\"zn9vVjg0kZU_13.mp3\", \"1840\", \"50% Calm,...</td>\n      <td>E</td>\n      <td>https://www.youtube.com/watch?v=zn9vVjg0kZU</td>\n      <td>youtube</td>\n    </tr>\n    <tr>\n      <th>5522</th>\n      <td>item1841</td>\n      <td>window.open(\"https://www.youtube.com/watch?v=z...</td>\n      <td>playx(\"znsUh6vBWLI_22.mp3\", \"1841\", \"43% Dream...</td>\n      <td>F</td>\n      <td>https://www.youtube.com/watch?v=znsUh6vBWLI</td>\n      <td>youtube</td>\n    </tr>\n  </tbody>\n</table>\n<p>4887 rows × 6 columns</p>\n</div>"
     },
     "execution_count": 110,
     "metadata": {},
     "output_type": "execute_result"
    }
   ],
   "source": [
    "youtube = data[data['domain'] == 'youtube']\n",
    "youtube"
   ],
   "metadata": {
    "collapsed": false,
    "pycharm": {
     "name": "#%%\n"
    }
   }
  },
  {
   "cell_type": "code",
   "execution_count": 115,
   "outputs": [],
   "source": [
    "def download_from_youtube(row):\n",
    "    # time.sleep(5)\n",
    "    try:\n",
    "        yt = YouTube(row['link'])\n",
    "        video = yt.streams.filter(only_audio=True).first()\n",
    "\n",
    "        destination = 'music-full/'\n",
    "        out_file = video.download(output_path=destination)\n",
    "\n",
    "        os.rename(out_file, destination + row[\"id\"] + '.mp3')\n",
    "    except KeyError as e:\n",
    "        print(str(e))\n",
    "        with open('errors_while_downloading.txt', 'a') as file:\n",
    "            file.write(row['id'] + ',' + row['link'])\n",
    "    except Exception:\n",
    "        with open('error.txt', 'a') as file:\n",
    "            file.write(row['id'] + ', ' + row['link'])"
   ],
   "metadata": {
    "collapsed": false,
    "pycharm": {
     "name": "#%%\n"
    }
   }
  },
  {
   "cell_type": "code",
   "execution_count": null,
   "outputs": [
    {
     "name": "stderr",
     "output_type": "stream",
     "text": [
      "  0%|          | 5/2443 [00:08<1:15:03,  1.85s/it]"
     ]
    },
    {
     "name": "stdout",
     "output_type": "stream",
     "text": [
      "'streamingData'\n"
     ]
    },
    {
     "name": "stderr",
     "output_type": "stream",
     "text": [
      "  1%|          | 16/2443 [00:34<1:27:30,  2.16s/it]"
     ]
    },
    {
     "name": "stdout",
     "output_type": "stream",
     "text": [
      "'streamingData'\n"
     ]
    },
    {
     "name": "stderr",
     "output_type": "stream",
     "text": [
      "  1%|          | 25/2443 [00:50<1:05:24,  1.62s/it]"
     ]
    },
    {
     "name": "stdout",
     "output_type": "stream",
     "text": [
      "'streamingData'\n"
     ]
    },
    {
     "name": "stderr",
     "output_type": "stream",
     "text": [
      "  1%|          | 27/2443 [00:54<1:15:12,  1.87s/it]"
     ]
    },
    {
     "name": "stdout",
     "output_type": "stream",
     "text": [
      "'streamingData'\n"
     ]
    },
    {
     "name": "stderr",
     "output_type": "stream",
     "text": [
      "  1%|          | 30/2443 [01:11<2:34:16,  3.84s/it]"
     ]
    },
    {
     "name": "stdout",
     "output_type": "stream",
     "text": [
      "'streamingData'\n"
     ]
    },
    {
     "name": "stderr",
     "output_type": "stream",
     "text": [
      "  2%|▏         | 38/2443 [01:35<2:17:02,  3.42s/it]"
     ]
    },
    {
     "name": "stdout",
     "output_type": "stream",
     "text": [
      "'streamingData'\n"
     ]
    },
    {
     "name": "stderr",
     "output_type": "stream",
     "text": [
      "  2%|▏         | 41/2443 [01:44<2:02:43,  3.07s/it]"
     ]
    },
    {
     "name": "stdout",
     "output_type": "stream",
     "text": [
      "'streamingData'\n"
     ]
    },
    {
     "name": "stderr",
     "output_type": "stream",
     "text": [
      "  2%|▏         | 49/2443 [02:11<1:59:22,  2.99s/it]"
     ]
    },
    {
     "name": "stdout",
     "output_type": "stream",
     "text": [
      "'streamingData'\n"
     ]
    },
    {
     "name": "stderr",
     "output_type": "stream",
     "text": [
      "  2%|▏         | 50/2443 [02:12<1:46:59,  2.68s/it]"
     ]
    },
    {
     "name": "stdout",
     "output_type": "stream",
     "text": [
      "'streamingData'\n"
     ]
    },
    {
     "name": "stderr",
     "output_type": "stream",
     "text": [
      "  2%|▏         | 51/2443 [02:14<1:37:10,  2.44s/it]"
     ]
    },
    {
     "name": "stdout",
     "output_type": "stream",
     "text": [
      "'streamingData'\n"
     ]
    },
    {
     "name": "stderr",
     "output_type": "stream",
     "text": [
      "  3%|▎         | 62/2443 [02:24<48:55,  1.23s/it]  "
     ]
    }
   ],
   "source": [
    "tqdm.pandas()\n",
    "# instantiate\n",
    "youtube[:2443].progress_apply(download_from_youtube, axis=1)"
   ],
   "metadata": {
    "collapsed": false,
    "pycharm": {
     "name": "#%%\n",
     "is_executing": true
    }
   }
  },
  {
   "cell_type": "code",
   "execution_count": null,
   "outputs": [],
   "source": [],
   "metadata": {
    "collapsed": false,
    "pycharm": {
     "name": "#%%\n"
    }
   }
  }
 ],
 "metadata": {
  "kernelspec": {
   "display_name": "Python 3",
   "language": "python",
   "name": "python3"
  },
  "language_info": {
   "codemirror_mode": {
    "name": "ipython",
    "version": 2
   },
   "file_extension": ".py",
   "mimetype": "text/x-python",
   "name": "python",
   "nbconvert_exporter": "python",
   "pygments_lexer": "ipython2",
   "version": "2.7.6"
  }
 },
 "nbformat": 4,
 "nbformat_minor": 0
}