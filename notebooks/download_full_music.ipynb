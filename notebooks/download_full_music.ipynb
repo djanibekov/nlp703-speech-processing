{
 "cells": [
  {
   "cell_type": "code",
   "execution_count": 82,
   "outputs": [],
   "source": [
    "import re\n",
    "import os\n",
    "import time\n",
    "from pytube import YouTube\n",
    "import pandas as pd\n",
    "from tqdm import tqdm"
   ],
   "metadata": {
    "collapsed": false,
    "pycharm": {
     "name": "#%%\n"
    }
   }
  },
  {
   "cell_type": "code",
   "execution_count": 83,
   "outputs": [
    {
     "name": "stdout",
     "output_type": "stream",
     "text": [
      "<class 'pandas.core.frame.DataFrame'>\n",
      "RangeIndex: 5523 entries, 0 to 5522\n",
      "Data columns (total 4 columns):\n",
      " #   Column       Non-Null Count  Dtype \n",
      "---  ------       --------------  ----- \n",
      " 0   id           5523 non-null   object\n",
      " 1   ondblclick   5523 non-null   object\n",
      " 2   onmouseover  5523 non-null   object\n",
      " 3   class        5523 non-null   object\n",
      "dtypes: object(4)\n",
      "memory usage: 172.7+ KB\n"
     ]
    }
   ],
   "source": [
    "\n",
    "data = pd.read_csv('/Users/amirdjanibekov/Documents/MBZUAI/NLP703/nlp703-speech-processing/csv/all_music_genre_wo_text.csv', encoding='UTF-8')\n",
    "data.info()"
   ],
   "metadata": {
    "collapsed": false,
    "pycharm": {
     "name": "#%%\n"
    }
   }
  },
  {
   "cell_type": "code",
   "execution_count": 84,
   "outputs": [
    {
     "data": {
      "text/plain": "id                                                       item190\nondblclick     window.open(\"https://www.google.com/search?q=A...\nonmouseover    playx(\"494.m4a.mp3\", \"190\", \"38% Awe-inspiring...\nclass                                                          F\nName: 189, dtype: object"
     },
     "execution_count": 84,
     "metadata": {},
     "output_type": "execute_result"
    }
   ],
   "source": [
    "data.iloc[189]"
   ],
   "metadata": {
    "collapsed": false,
    "pycharm": {
     "name": "#%%\n"
    }
   }
  },
  {
   "cell_type": "code",
   "execution_count": 85,
   "outputs": [
    {
     "data": {
      "text/plain": "      id                                         ondblclick   \n0  item1  window.open(\"https://www.amazon.com/dp/B00B6N6...  \\\n1  item2  window.open(\"https://www.youtube.com/watch?v=0...   \n2  item3  window.open(\"https://www.youtube.com/watch?v=0...   \n3  item4  window.open(\"https://www.youtube.com/watch?v=0...   \n4  item5  window.open(\"https://www.youtube.com/watch?v=0...   \n\n                                         onmouseover class  \n0  playx(\"01 - Tree Dance&1.mp3\", \"1\", \"57% Calm,...     E  \n1  playx(\"04F4xlWSFh0_18.mp3\", \"2\", \"42% Energizi...     G  \n2  playx(\"04F4xlWSFh0_75.mp3\", \"3\", \"50% Energizi...     G  \n3  playx(\"05UApr2UQHQ_227.mp3\", \"4\", \"20% Calm, r...     F  \n4  playx(\"073TNjLc070_40.mp3\", \"5\", \"29% Energizi...     G  ",
      "text/html": "<div>\n<style scoped>\n    .dataframe tbody tr th:only-of-type {\n        vertical-align: middle;\n    }\n\n    .dataframe tbody tr th {\n        vertical-align: top;\n    }\n\n    .dataframe thead th {\n        text-align: right;\n    }\n</style>\n<table border=\"1\" class=\"dataframe\">\n  <thead>\n    <tr style=\"text-align: right;\">\n      <th></th>\n      <th>id</th>\n      <th>ondblclick</th>\n      <th>onmouseover</th>\n      <th>class</th>\n    </tr>\n  </thead>\n  <tbody>\n    <tr>\n      <th>0</th>\n      <td>item1</td>\n      <td>window.open(\"https://www.amazon.com/dp/B00B6N6...</td>\n      <td>playx(\"01 - Tree Dance&amp;1.mp3\", \"1\", \"57% Calm,...</td>\n      <td>E</td>\n    </tr>\n    <tr>\n      <th>1</th>\n      <td>item2</td>\n      <td>window.open(\"https://www.youtube.com/watch?v=0...</td>\n      <td>playx(\"04F4xlWSFh0_18.mp3\", \"2\", \"42% Energizi...</td>\n      <td>G</td>\n    </tr>\n    <tr>\n      <th>2</th>\n      <td>item3</td>\n      <td>window.open(\"https://www.youtube.com/watch?v=0...</td>\n      <td>playx(\"04F4xlWSFh0_75.mp3\", \"3\", \"50% Energizi...</td>\n      <td>G</td>\n    </tr>\n    <tr>\n      <th>3</th>\n      <td>item4</td>\n      <td>window.open(\"https://www.youtube.com/watch?v=0...</td>\n      <td>playx(\"05UApr2UQHQ_227.mp3\", \"4\", \"20% Calm, r...</td>\n      <td>F</td>\n    </tr>\n    <tr>\n      <th>4</th>\n      <td>item5</td>\n      <td>window.open(\"https://www.youtube.com/watch?v=0...</td>\n      <td>playx(\"073TNjLc070_40.mp3\", \"5\", \"29% Energizi...</td>\n      <td>G</td>\n    </tr>\n  </tbody>\n</table>\n</div>"
     },
     "execution_count": 85,
     "metadata": {},
     "output_type": "execute_result"
    }
   ],
   "source": [
    "data.head()"
   ],
   "metadata": {
    "collapsed": false,
    "pycharm": {
     "name": "#%%\n"
    }
   }
  },
  {
   "cell_type": "code",
   "execution_count": 86,
   "outputs": [],
   "source": [
    "data['link'] = data['ondblclick'].apply(\n",
    "    lambda x: (\n",
    "            re.search(r'(?P<link>https.*)\",',x) or\n",
    "            re.search(r'(?P<link>.*)', x)\n",
    "    ).group('link')\n",
    ")\n",
    "data['domain'] = data['ondblclick'].apply(\n",
    "    lambda x: (\n",
    "            re.search(r'www\\.(?P<domain>.*)\\.\\w',x) or\n",
    "            re.search(r'(?P<domain>.*)', x)\n",
    "    ).group('domain')\n",
    ")"
   ],
   "metadata": {
    "collapsed": false,
    "pycharm": {
     "name": "#%%\n"
    }
   }
  },
  {
   "cell_type": "code",
   "execution_count": 87,
   "outputs": [
    {
     "data": {
      "text/plain": "domain\nyoutube                                                                         0.884845\ngoogle                                                                          0.054861\nwoodzie                                                                         0.050516\nwagnerheim                                                                      0.007605\nwindow.open(\"http://music.sailingconductors.com/track/nocturne\",\"mywindow\");    0.001630\namazon                                                                          0.000543\nName: proportion, dtype: float64"
     },
     "execution_count": 87,
     "metadata": {},
     "output_type": "execute_result"
    }
   ],
   "source": [
    "data['domain'].value_counts(normalize=True)"
   ],
   "metadata": {
    "collapsed": false,
    "pycharm": {
     "name": "#%%\n"
    }
   }
  },
  {
   "cell_type": "code",
   "execution_count": 88,
   "outputs": [
    {
     "data": {
      "text/plain": "            id                                         ondblclick   \n1        item2  window.open(\"https://www.youtube.com/watch?v=0...  \\\n2        item3  window.open(\"https://www.youtube.com/watch?v=0...   \n3        item4  window.open(\"https://www.youtube.com/watch?v=0...   \n4        item5  window.open(\"https://www.youtube.com/watch?v=0...   \n5        item6  window.open(\"https://www.youtube.com/watch?v=0...   \n...        ...                                                ...   \n5518  item1837  window.open(\"https://www.youtube.com/watch?v=z...   \n5519  item1838  window.open(\"https://www.youtube.com/watch?v=z...   \n5520  item1839  window.open(\"https://www.youtube.com/watch?v=z...   \n5521  item1840  window.open(\"https://www.youtube.com/watch?v=z...   \n5522  item1841  window.open(\"https://www.youtube.com/watch?v=z...   \n\n                                            onmouseover class   \n1     playx(\"04F4xlWSFh0_18.mp3\", \"2\", \"42% Energizi...     G  \\\n2     playx(\"04F4xlWSFh0_75.mp3\", \"3\", \"50% Energizi...     G   \n3     playx(\"05UApr2UQHQ_227.mp3\", \"4\", \"20% Calm, r...     F   \n4     playx(\"073TNjLc070_40.mp3\", \"5\", \"29% Energizi...     G   \n5     playx(\"0DugzooGWKk_1.mp3\", \"6\", \"31% Calm, rel...     J   \n...                                                 ...   ...   \n5518  playx(\"zhRzORqNa0E_5.mp3\", \"1837\", \"34% Beauti...     E   \n5519  playx(\"zk93KbUtFyA_6.mp3\", \"1838\", \"50% Energi...     G   \n5520  playx(\"zn9vVjg0kZU_1027.mp3\", \"1839\", \"41% Cal...     F   \n5521  playx(\"zn9vVjg0kZU_13.mp3\", \"1840\", \"50% Calm,...     E   \n5522  playx(\"znsUh6vBWLI_22.mp3\", \"1841\", \"43% Dream...     F   \n\n                                             link   domain  \n1     https://www.youtube.com/watch?v=04F4xlWSFh0  youtube  \n2     https://www.youtube.com/watch?v=04F4xlWSFh0  youtube  \n3     https://www.youtube.com/watch?v=05UApr2UQHQ  youtube  \n4     https://www.youtube.com/watch?v=073TNjLc070  youtube  \n5     https://www.youtube.com/watch?v=0DugzooGWKk  youtube  \n...                                           ...      ...  \n5518  https://www.youtube.com/watch?v=zhRzORqNa0E  youtube  \n5519  https://www.youtube.com/watch?v=zk93KbUtFyA  youtube  \n5520  https://www.youtube.com/watch?v=zn9vVjg0kZU  youtube  \n5521  https://www.youtube.com/watch?v=zn9vVjg0kZU  youtube  \n5522  https://www.youtube.com/watch?v=znsUh6vBWLI  youtube  \n\n[4887 rows x 6 columns]",
      "text/html": "<div>\n<style scoped>\n    .dataframe tbody tr th:only-of-type {\n        vertical-align: middle;\n    }\n\n    .dataframe tbody tr th {\n        vertical-align: top;\n    }\n\n    .dataframe thead th {\n        text-align: right;\n    }\n</style>\n<table border=\"1\" class=\"dataframe\">\n  <thead>\n    <tr style=\"text-align: right;\">\n      <th></th>\n      <th>id</th>\n      <th>ondblclick</th>\n      <th>onmouseover</th>\n      <th>class</th>\n      <th>link</th>\n      <th>domain</th>\n    </tr>\n  </thead>\n  <tbody>\n    <tr>\n      <th>1</th>\n      <td>item2</td>\n      <td>window.open(\"https://www.youtube.com/watch?v=0...</td>\n      <td>playx(\"04F4xlWSFh0_18.mp3\", \"2\", \"42% Energizi...</td>\n      <td>G</td>\n      <td>https://www.youtube.com/watch?v=04F4xlWSFh0</td>\n      <td>youtube</td>\n    </tr>\n    <tr>\n      <th>2</th>\n      <td>item3</td>\n      <td>window.open(\"https://www.youtube.com/watch?v=0...</td>\n      <td>playx(\"04F4xlWSFh0_75.mp3\", \"3\", \"50% Energizi...</td>\n      <td>G</td>\n      <td>https://www.youtube.com/watch?v=04F4xlWSFh0</td>\n      <td>youtube</td>\n    </tr>\n    <tr>\n      <th>3</th>\n      <td>item4</td>\n      <td>window.open(\"https://www.youtube.com/watch?v=0...</td>\n      <td>playx(\"05UApr2UQHQ_227.mp3\", \"4\", \"20% Calm, r...</td>\n      <td>F</td>\n      <td>https://www.youtube.com/watch?v=05UApr2UQHQ</td>\n      <td>youtube</td>\n    </tr>\n    <tr>\n      <th>4</th>\n      <td>item5</td>\n      <td>window.open(\"https://www.youtube.com/watch?v=0...</td>\n      <td>playx(\"073TNjLc070_40.mp3\", \"5\", \"29% Energizi...</td>\n      <td>G</td>\n      <td>https://www.youtube.com/watch?v=073TNjLc070</td>\n      <td>youtube</td>\n    </tr>\n    <tr>\n      <th>5</th>\n      <td>item6</td>\n      <td>window.open(\"https://www.youtube.com/watch?v=0...</td>\n      <td>playx(\"0DugzooGWKk_1.mp3\", \"6\", \"31% Calm, rel...</td>\n      <td>J</td>\n      <td>https://www.youtube.com/watch?v=0DugzooGWKk</td>\n      <td>youtube</td>\n    </tr>\n    <tr>\n      <th>...</th>\n      <td>...</td>\n      <td>...</td>\n      <td>...</td>\n      <td>...</td>\n      <td>...</td>\n      <td>...</td>\n    </tr>\n    <tr>\n      <th>5518</th>\n      <td>item1837</td>\n      <td>window.open(\"https://www.youtube.com/watch?v=z...</td>\n      <td>playx(\"zhRzORqNa0E_5.mp3\", \"1837\", \"34% Beauti...</td>\n      <td>E</td>\n      <td>https://www.youtube.com/watch?v=zhRzORqNa0E</td>\n      <td>youtube</td>\n    </tr>\n    <tr>\n      <th>5519</th>\n      <td>item1838</td>\n      <td>window.open(\"https://www.youtube.com/watch?v=z...</td>\n      <td>playx(\"zk93KbUtFyA_6.mp3\", \"1838\", \"50% Energi...</td>\n      <td>G</td>\n      <td>https://www.youtube.com/watch?v=zk93KbUtFyA</td>\n      <td>youtube</td>\n    </tr>\n    <tr>\n      <th>5520</th>\n      <td>item1839</td>\n      <td>window.open(\"https://www.youtube.com/watch?v=z...</td>\n      <td>playx(\"zn9vVjg0kZU_1027.mp3\", \"1839\", \"41% Cal...</td>\n      <td>F</td>\n      <td>https://www.youtube.com/watch?v=zn9vVjg0kZU</td>\n      <td>youtube</td>\n    </tr>\n    <tr>\n      <th>5521</th>\n      <td>item1840</td>\n      <td>window.open(\"https://www.youtube.com/watch?v=z...</td>\n      <td>playx(\"zn9vVjg0kZU_13.mp3\", \"1840\", \"50% Calm,...</td>\n      <td>E</td>\n      <td>https://www.youtube.com/watch?v=zn9vVjg0kZU</td>\n      <td>youtube</td>\n    </tr>\n    <tr>\n      <th>5522</th>\n      <td>item1841</td>\n      <td>window.open(\"https://www.youtube.com/watch?v=z...</td>\n      <td>playx(\"znsUh6vBWLI_22.mp3\", \"1841\", \"43% Dream...</td>\n      <td>F</td>\n      <td>https://www.youtube.com/watch?v=znsUh6vBWLI</td>\n      <td>youtube</td>\n    </tr>\n  </tbody>\n</table>\n<p>4887 rows × 6 columns</p>\n</div>"
     },
     "execution_count": 88,
     "metadata": {},
     "output_type": "execute_result"
    }
   ],
   "source": [
    "youtube = data[data['domain'] == 'youtube']\n",
    "youtube"
   ],
   "metadata": {
    "collapsed": false,
    "pycharm": {
     "name": "#%%\n"
    }
   }
  },
  {
   "cell_type": "code",
   "execution_count": 93,
   "outputs": [],
   "source": [
    "def download_from_youtube(row):\n",
    "    # time.sleep(5)\n",
    "    try:\n",
    "        yt = YouTube(row['link'])\n",
    "        video = yt.streams.filter(only_audio=True).first()\n",
    "\n",
    "        destination = 'music-full/'\n",
    "        out_file = video.download(output_path=destination)\n",
    "\n",
    "        os.rename(out_file, destination + row[\"id\"] + '.mp3')\n",
    "    except KeyError:\n",
    "        print('error')\n",
    "        with open('errors_while_downloading.txt', 'w') as file:\n",
    "            file.write(row['id'] + ',' + row['link'])\n",
    "    except:\n",
    "        with open('error.txt', 'w') as file:\n",
    "            file.write(row['id'] + ', ' + row['link'])"
   ],
   "metadata": {
    "collapsed": false,
    "pycharm": {
     "name": "#%%\n"
    }
   }
  },
  {
   "cell_type": "code",
   "execution_count": 94,
   "outputs": [
    {
     "name": "stderr",
     "output_type": "stream",
     "text": [
      "  0%|          | 7/4887 [00:29<6:15:17,  4.61s/it]"
     ]
    },
    {
     "name": "stdout",
     "output_type": "stream",
     "text": [
      "error\n"
     ]
    },
    {
     "name": "stderr",
     "output_type": "stream",
     "text": [
      "  0%|          | 9/4887 [00:37<5:28:03,  4.04s/it]"
     ]
    },
    {
     "name": "stdout",
     "output_type": "stream",
     "text": [
      "error\n"
     ]
    },
    {
     "name": "stderr",
     "output_type": "stream",
     "text": [
      "  0%|          | 10/4887 [00:39<4:54:29,  3.62s/it]"
     ]
    },
    {
     "name": "stdout",
     "output_type": "stream",
     "text": [
      "error\n"
     ]
    },
    {
     "name": "stderr",
     "output_type": "stream",
     "text": [
      "  0%|          | 17/4887 [01:18<6:16:39,  4.64s/it]\n"
     ]
    },
    {
     "ename": "VideoUnavailable",
     "evalue": "0tuK0sk_D1M is unavailable",
     "output_type": "error",
     "traceback": [
      "\u001B[0;31m---------------------------------------------------------------------------\u001B[0m",
      "\u001B[0;31mVideoUnavailable\u001B[0m                          Traceback (most recent call last)",
      "Cell \u001B[0;32mIn[94], line 3\u001B[0m\n\u001B[1;32m      1\u001B[0m tqdm\u001B[38;5;241m.\u001B[39mpandas()\n\u001B[1;32m      2\u001B[0m \u001B[38;5;66;03m# instantiate\u001B[39;00m\n\u001B[0;32m----> 3\u001B[0m \u001B[43myoutube\u001B[49m\u001B[38;5;241;43m.\u001B[39;49m\u001B[43mprogress_apply\u001B[49m\u001B[43m(\u001B[49m\u001B[43mdownload_from_youtube\u001B[49m\u001B[43m,\u001B[49m\u001B[43m \u001B[49m\u001B[43maxis\u001B[49m\u001B[38;5;241;43m=\u001B[39;49m\u001B[38;5;241;43m1\u001B[39;49m\u001B[43m)\u001B[49m\n",
      "File \u001B[0;32m/opt/homebrew/Caskroom/miniforge/base/envs/nlp703/lib/python3.8/site-packages/tqdm/std.py:805\u001B[0m, in \u001B[0;36mtqdm.pandas.<locals>.inner_generator.<locals>.inner\u001B[0;34m(df, func, *args, **kwargs)\u001B[0m\n\u001B[1;32m    802\u001B[0m \u001B[38;5;66;03m# Apply the provided function (in **kwargs)\u001B[39;00m\n\u001B[1;32m    803\u001B[0m \u001B[38;5;66;03m# on the df using our wrapper (which provides bar updating)\u001B[39;00m\n\u001B[1;32m    804\u001B[0m \u001B[38;5;28;01mtry\u001B[39;00m:\n\u001B[0;32m--> 805\u001B[0m     \u001B[38;5;28;01mreturn\u001B[39;00m \u001B[38;5;28;43mgetattr\u001B[39;49m\u001B[43m(\u001B[49m\u001B[43mdf\u001B[49m\u001B[43m,\u001B[49m\u001B[43m \u001B[49m\u001B[43mdf_function\u001B[49m\u001B[43m)\u001B[49m\u001B[43m(\u001B[49m\u001B[43mwrapper\u001B[49m\u001B[43m,\u001B[49m\u001B[43m \u001B[49m\u001B[38;5;241;43m*\u001B[39;49m\u001B[38;5;241;43m*\u001B[39;49m\u001B[43mkwargs\u001B[49m\u001B[43m)\u001B[49m\n\u001B[1;32m    806\u001B[0m \u001B[38;5;28;01mfinally\u001B[39;00m:\n\u001B[1;32m    807\u001B[0m     t\u001B[38;5;241m.\u001B[39mclose()\n",
      "File \u001B[0;32m/opt/homebrew/Caskroom/miniforge/base/envs/nlp703/lib/python3.8/site-packages/pandas/core/frame.py:9433\u001B[0m, in \u001B[0;36mDataFrame.apply\u001B[0;34m(self, func, axis, raw, result_type, args, **kwargs)\u001B[0m\n\u001B[1;32m   9422\u001B[0m \u001B[38;5;28;01mfrom\u001B[39;00m \u001B[38;5;21;01mpandas\u001B[39;00m\u001B[38;5;21;01m.\u001B[39;00m\u001B[38;5;21;01mcore\u001B[39;00m\u001B[38;5;21;01m.\u001B[39;00m\u001B[38;5;21;01mapply\u001B[39;00m \u001B[38;5;28;01mimport\u001B[39;00m frame_apply\n\u001B[1;32m   9424\u001B[0m op \u001B[38;5;241m=\u001B[39m frame_apply(\n\u001B[1;32m   9425\u001B[0m     \u001B[38;5;28mself\u001B[39m,\n\u001B[1;32m   9426\u001B[0m     func\u001B[38;5;241m=\u001B[39mfunc,\n\u001B[0;32m   (...)\u001B[0m\n\u001B[1;32m   9431\u001B[0m     kwargs\u001B[38;5;241m=\u001B[39mkwargs,\n\u001B[1;32m   9432\u001B[0m )\n\u001B[0;32m-> 9433\u001B[0m \u001B[38;5;28;01mreturn\u001B[39;00m \u001B[43mop\u001B[49m\u001B[38;5;241;43m.\u001B[39;49m\u001B[43mapply\u001B[49m\u001B[43m(\u001B[49m\u001B[43m)\u001B[49m\u001B[38;5;241m.\u001B[39m__finalize__(\u001B[38;5;28mself\u001B[39m, method\u001B[38;5;241m=\u001B[39m\u001B[38;5;124m\"\u001B[39m\u001B[38;5;124mapply\u001B[39m\u001B[38;5;124m\"\u001B[39m)\n",
      "File \u001B[0;32m/opt/homebrew/Caskroom/miniforge/base/envs/nlp703/lib/python3.8/site-packages/pandas/core/apply.py:678\u001B[0m, in \u001B[0;36mFrameApply.apply\u001B[0;34m(self)\u001B[0m\n\u001B[1;32m    675\u001B[0m \u001B[38;5;28;01melif\u001B[39;00m \u001B[38;5;28mself\u001B[39m\u001B[38;5;241m.\u001B[39mraw:\n\u001B[1;32m    676\u001B[0m     \u001B[38;5;28;01mreturn\u001B[39;00m \u001B[38;5;28mself\u001B[39m\u001B[38;5;241m.\u001B[39mapply_raw()\n\u001B[0;32m--> 678\u001B[0m \u001B[38;5;28;01mreturn\u001B[39;00m \u001B[38;5;28;43mself\u001B[39;49m\u001B[38;5;241;43m.\u001B[39;49m\u001B[43mapply_standard\u001B[49m\u001B[43m(\u001B[49m\u001B[43m)\u001B[49m\n",
      "File \u001B[0;32m/opt/homebrew/Caskroom/miniforge/base/envs/nlp703/lib/python3.8/site-packages/pandas/core/apply.py:798\u001B[0m, in \u001B[0;36mFrameApply.apply_standard\u001B[0;34m(self)\u001B[0m\n\u001B[1;32m    797\u001B[0m \u001B[38;5;28;01mdef\u001B[39;00m \u001B[38;5;21mapply_standard\u001B[39m(\u001B[38;5;28mself\u001B[39m):\n\u001B[0;32m--> 798\u001B[0m     results, res_index \u001B[38;5;241m=\u001B[39m \u001B[38;5;28;43mself\u001B[39;49m\u001B[38;5;241;43m.\u001B[39;49m\u001B[43mapply_series_generator\u001B[49m\u001B[43m(\u001B[49m\u001B[43m)\u001B[49m\n\u001B[1;32m    800\u001B[0m     \u001B[38;5;66;03m# wrap results\u001B[39;00m\n\u001B[1;32m    801\u001B[0m     \u001B[38;5;28;01mreturn\u001B[39;00m \u001B[38;5;28mself\u001B[39m\u001B[38;5;241m.\u001B[39mwrap_results(results, res_index)\n",
      "File \u001B[0;32m/opt/homebrew/Caskroom/miniforge/base/envs/nlp703/lib/python3.8/site-packages/pandas/core/apply.py:814\u001B[0m, in \u001B[0;36mFrameApply.apply_series_generator\u001B[0;34m(self)\u001B[0m\n\u001B[1;32m    811\u001B[0m \u001B[38;5;28;01mwith\u001B[39;00m option_context(\u001B[38;5;124m\"\u001B[39m\u001B[38;5;124mmode.chained_assignment\u001B[39m\u001B[38;5;124m\"\u001B[39m, \u001B[38;5;28;01mNone\u001B[39;00m):\n\u001B[1;32m    812\u001B[0m     \u001B[38;5;28;01mfor\u001B[39;00m i, v \u001B[38;5;129;01min\u001B[39;00m \u001B[38;5;28menumerate\u001B[39m(series_gen):\n\u001B[1;32m    813\u001B[0m         \u001B[38;5;66;03m# ignore SettingWithCopy here in case the user mutates\u001B[39;00m\n\u001B[0;32m--> 814\u001B[0m         results[i] \u001B[38;5;241m=\u001B[39m \u001B[38;5;28;43mself\u001B[39;49m\u001B[38;5;241;43m.\u001B[39;49m\u001B[43mf\u001B[49m\u001B[43m(\u001B[49m\u001B[43mv\u001B[49m\u001B[43m)\u001B[49m\n\u001B[1;32m    815\u001B[0m         \u001B[38;5;28;01mif\u001B[39;00m \u001B[38;5;28misinstance\u001B[39m(results[i], ABCSeries):\n\u001B[1;32m    816\u001B[0m             \u001B[38;5;66;03m# If we have a view on v, we need to make a copy because\u001B[39;00m\n\u001B[1;32m    817\u001B[0m             \u001B[38;5;66;03m#  series_generator will swap out the underlying data\u001B[39;00m\n\u001B[1;32m    818\u001B[0m             results[i] \u001B[38;5;241m=\u001B[39m results[i]\u001B[38;5;241m.\u001B[39mcopy(deep\u001B[38;5;241m=\u001B[39m\u001B[38;5;28;01mFalse\u001B[39;00m)\n",
      "File \u001B[0;32m/opt/homebrew/Caskroom/miniforge/base/envs/nlp703/lib/python3.8/site-packages/tqdm/std.py:800\u001B[0m, in \u001B[0;36mtqdm.pandas.<locals>.inner_generator.<locals>.inner.<locals>.wrapper\u001B[0;34m(*args, **kwargs)\u001B[0m\n\u001B[1;32m    794\u001B[0m \u001B[38;5;28;01mdef\u001B[39;00m \u001B[38;5;21mwrapper\u001B[39m(\u001B[38;5;241m*\u001B[39margs, \u001B[38;5;241m*\u001B[39m\u001B[38;5;241m*\u001B[39mkwargs):\n\u001B[1;32m    795\u001B[0m     \u001B[38;5;66;03m# update tbar correctly\u001B[39;00m\n\u001B[1;32m    796\u001B[0m     \u001B[38;5;66;03m# it seems `pandas apply` calls `func` twice\u001B[39;00m\n\u001B[1;32m    797\u001B[0m     \u001B[38;5;66;03m# on the first column/row to decide whether it can\u001B[39;00m\n\u001B[1;32m    798\u001B[0m     \u001B[38;5;66;03m# take a fast or slow code path; so stop when t.total==t.n\u001B[39;00m\n\u001B[1;32m    799\u001B[0m     t\u001B[38;5;241m.\u001B[39mupdate(n\u001B[38;5;241m=\u001B[39m\u001B[38;5;241m1\u001B[39m \u001B[38;5;28;01mif\u001B[39;00m \u001B[38;5;129;01mnot\u001B[39;00m t\u001B[38;5;241m.\u001B[39mtotal \u001B[38;5;129;01mor\u001B[39;00m t\u001B[38;5;241m.\u001B[39mn \u001B[38;5;241m<\u001B[39m t\u001B[38;5;241m.\u001B[39mtotal \u001B[38;5;28;01melse\u001B[39;00m \u001B[38;5;241m0\u001B[39m)\n\u001B[0;32m--> 800\u001B[0m     \u001B[38;5;28;01mreturn\u001B[39;00m \u001B[43mfunc\u001B[49m\u001B[43m(\u001B[49m\u001B[38;5;241;43m*\u001B[39;49m\u001B[43margs\u001B[49m\u001B[43m,\u001B[49m\u001B[43m \u001B[49m\u001B[38;5;241;43m*\u001B[39;49m\u001B[38;5;241;43m*\u001B[39;49m\u001B[43mkwargs\u001B[49m\u001B[43m)\u001B[49m\n",
      "Cell \u001B[0;32mIn[93], line 5\u001B[0m, in \u001B[0;36mdownload_from_youtube\u001B[0;34m(row)\u001B[0m\n\u001B[1;32m      3\u001B[0m \u001B[38;5;28;01mtry\u001B[39;00m:\n\u001B[1;32m      4\u001B[0m     yt \u001B[38;5;241m=\u001B[39m YouTube(row[\u001B[38;5;124m'\u001B[39m\u001B[38;5;124mlink\u001B[39m\u001B[38;5;124m'\u001B[39m])\n\u001B[0;32m----> 5\u001B[0m     video \u001B[38;5;241m=\u001B[39m \u001B[43myt\u001B[49m\u001B[38;5;241;43m.\u001B[39;49m\u001B[43mstreams\u001B[49m\u001B[38;5;241m.\u001B[39mfilter(only_audio\u001B[38;5;241m=\u001B[39m\u001B[38;5;28;01mTrue\u001B[39;00m)\u001B[38;5;241m.\u001B[39mfirst()\n\u001B[1;32m      7\u001B[0m     destination \u001B[38;5;241m=\u001B[39m \u001B[38;5;124m'\u001B[39m\u001B[38;5;124mmusic-full/\u001B[39m\u001B[38;5;124m'\u001B[39m\n\u001B[1;32m      8\u001B[0m     out_file \u001B[38;5;241m=\u001B[39m video\u001B[38;5;241m.\u001B[39mdownload(output_path\u001B[38;5;241m=\u001B[39mdestination)\n",
      "File \u001B[0;32m/opt/homebrew/Caskroom/miniforge/base/envs/nlp703/lib/python3.8/site-packages/pytube/__main__.py:295\u001B[0m, in \u001B[0;36mYouTube.streams\u001B[0;34m(self)\u001B[0m\n\u001B[1;32m    289\u001B[0m \u001B[38;5;129m@property\u001B[39m\n\u001B[1;32m    290\u001B[0m \u001B[38;5;28;01mdef\u001B[39;00m \u001B[38;5;21mstreams\u001B[39m(\u001B[38;5;28mself\u001B[39m) \u001B[38;5;241m-\u001B[39m\u001B[38;5;241m>\u001B[39m StreamQuery:\n\u001B[1;32m    291\u001B[0m \u001B[38;5;250m    \u001B[39m\u001B[38;5;124;03m\"\"\"Interface to query both adaptive (DASH) and progressive streams.\u001B[39;00m\n\u001B[1;32m    292\u001B[0m \n\u001B[1;32m    293\u001B[0m \u001B[38;5;124;03m    :rtype: :class:`StreamQuery <StreamQuery>`.\u001B[39;00m\n\u001B[1;32m    294\u001B[0m \u001B[38;5;124;03m    \"\"\"\u001B[39;00m\n\u001B[0;32m--> 295\u001B[0m     \u001B[38;5;28;43mself\u001B[39;49m\u001B[38;5;241;43m.\u001B[39;49m\u001B[43mcheck_availability\u001B[49m\u001B[43m(\u001B[49m\u001B[43m)\u001B[49m\n\u001B[1;32m    296\u001B[0m     \u001B[38;5;28;01mreturn\u001B[39;00m StreamQuery(\u001B[38;5;28mself\u001B[39m\u001B[38;5;241m.\u001B[39mfmt_streams)\n",
      "File \u001B[0;32m/opt/homebrew/Caskroom/miniforge/base/envs/nlp703/lib/python3.8/site-packages/pytube/__main__.py:231\u001B[0m, in \u001B[0;36mYouTube.check_availability\u001B[0;34m(self)\u001B[0m\n\u001B[1;32m    229\u001B[0m \u001B[38;5;28;01melif\u001B[39;00m status \u001B[38;5;241m==\u001B[39m \u001B[38;5;124m'\u001B[39m\u001B[38;5;124mERROR\u001B[39m\u001B[38;5;124m'\u001B[39m:\n\u001B[1;32m    230\u001B[0m     \u001B[38;5;28;01mif\u001B[39;00m reason \u001B[38;5;241m==\u001B[39m \u001B[38;5;124m'\u001B[39m\u001B[38;5;124mVideo unavailable\u001B[39m\u001B[38;5;124m'\u001B[39m:\n\u001B[0;32m--> 231\u001B[0m         \u001B[38;5;28;01mraise\u001B[39;00m exceptions\u001B[38;5;241m.\u001B[39mVideoUnavailable(video_id\u001B[38;5;241m=\u001B[39m\u001B[38;5;28mself\u001B[39m\u001B[38;5;241m.\u001B[39mvideo_id)\n\u001B[1;32m    232\u001B[0m \u001B[38;5;28;01melif\u001B[39;00m status \u001B[38;5;241m==\u001B[39m \u001B[38;5;124m'\u001B[39m\u001B[38;5;124mLIVE_STREAM\u001B[39m\u001B[38;5;124m'\u001B[39m:\n\u001B[1;32m    233\u001B[0m     \u001B[38;5;28;01mraise\u001B[39;00m exceptions\u001B[38;5;241m.\u001B[39mLiveStreamError(video_id\u001B[38;5;241m=\u001B[39m\u001B[38;5;28mself\u001B[39m\u001B[38;5;241m.\u001B[39mvideo_id)\n",
      "\u001B[0;31mVideoUnavailable\u001B[0m: 0tuK0sk_D1M is unavailable"
     ]
    }
   ],
   "source": [
    "tqdm.pandas()\n",
    "# instantiate\n",
    "youtube.progress_apply(download_from_youtube, axis=1)"
   ],
   "metadata": {
    "collapsed": false,
    "pycharm": {
     "name": "#%%\n"
    }
   }
  },
  {
   "cell_type": "code",
   "execution_count": null,
   "outputs": [],
   "source": [],
   "metadata": {
    "collapsed": false,
    "pycharm": {
     "name": "#%%\n"
    }
   }
  }
 ],
 "metadata": {
  "kernelspec": {
   "display_name": "Python 3",
   "language": "python",
   "name": "python3"
  },
  "language_info": {
   "codemirror_mode": {
    "name": "ipython",
    "version": 2
   },
   "file_extension": ".py",
   "mimetype": "text/x-python",
   "name": "python",
   "nbconvert_exporter": "python",
   "pygments_lexer": "ipython2",
   "version": "2.7.6"
  }
 },
 "nbformat": 4,
 "nbformat_minor": 0
}