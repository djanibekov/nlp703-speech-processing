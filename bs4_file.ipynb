{
 "cells": [
  {
   "cell_type": "code",
   "execution_count": 54,
   "metadata": {},
   "outputs": [],
   "source": [
    "import requests\n",
    "import pandas as pd\n",
    "from bs4 import BeautifulSoup\n",
    "\n",
    "url = 'https://www.ocf.berkeley.edu/~acowen/music.html#'\n",
    "page = requests.get(url)\n",
    "soup = BeautifulSoup(page.content, 'html.parser')\n",
    "\n",
    "canvas_all = soup.find_all('div', attrs={'class': 'canvas', 'id':'allratings'})\n",
    "canvas_usa = soup.find_all('div', attrs={'class': 'canvas', 'id':'USA'})\n",
    "canvas_chn = soup.find_all('div', attrs={'class': 'canvas', 'id':'CHN'})\n",
    "\n",
    "dataframe1 = pd.DataFrame(columns=['id', 'ondblclick', 'onmouseover', 'class'])\n",
    "dataframe2 = pd.DataFrame(columns=['id', 'ondblclick', 'onmouseover', 'class'])\n",
    "dataframe3 = pd.DataFrame(columns=['id', 'ondblclick', 'onmouseover', 'class'])"
   ]
  },
  {
   "cell_type": "code",
   "execution_count": 64,
   "metadata": {},
   "outputs": [
    {
     "data": {
      "text/plain": [
       "1841"
      ]
     },
     "execution_count": 64,
     "metadata": {},
     "output_type": "execute_result"
    }
   ],
   "source": [
    "len(canvas_all[0].find_all('div', attrs={'class': 'genre scanme'}))"
   ]
  },
  {
   "cell_type": "code",
   "execution_count": 65,
   "metadata": {},
   "outputs": [
    {
     "data": {
      "text/plain": [
       "1841"
      ]
     },
     "execution_count": 65,
     "metadata": {},
     "output_type": "execute_result"
    }
   ],
   "source": [
    "len(canvas_usa[0].find_all('div', attrs={'class': 'genre scanme'}))"
   ]
  },
  {
   "cell_type": "code",
   "execution_count": 66,
   "metadata": {},
   "outputs": [
    {
     "data": {
      "text/plain": [
       "1841"
      ]
     },
     "execution_count": 66,
     "metadata": {},
     "output_type": "execute_result"
    }
   ],
   "source": [
    "len(canvas_chn[0].find_all('div', attrs={'class': 'genre scanme'}))"
   ]
  },
  {
   "cell_type": "code",
   "execution_count": 70,
   "metadata": {},
   "outputs": [],
   "source": [
    "counter = 0\n",
    "for grid, dataframe, name in zip([canvas_all[0], canvas_usa[0], canvas_chn[0]], [dataframe1, dataframe2, dataframe3], ['all', 'usa', 'china']):\n",
    "    genre_scanme = grid.find_all('div', attrs={'class': 'genre scanme'})\n",
    "    data = {}\n",
    "    for sample in genre_scanme:\n",
    "        class_ = sample.get_text()\n",
    "        id_ = sample['id']\n",
    "        ondblclick_ = sample['ondblclick']\n",
    "        onmouseover_ = sample['onmouseover']\n",
    "        data['id'] = id_\n",
    "        data['ondblclick'] = ondblclick_\n",
    "        data['onmouseover'] = onmouseover_\n",
    "        data['class'] = class_\n",
    "\n",
    "        dataframe = pd.concat([dataframe, pd.DataFrame(data, index=[counter])])\n",
    "        counter = counter + 1\n",
    "    dataframe.to_csv(f'{name}_music_genre_wo_text.csv', index=False)"
   ]
  },
  {
   "cell_type": "code",
   "execution_count": null,
   "metadata": {},
   "outputs": [],
   "source": []
  }
 ],
 "metadata": {
  "kernelspec": {
   "display_name": "Python 3",
   "language": "python",
   "name": "python3"
  },
  "language_info": {
   "codemirror_mode": {
    "name": "ipython",
    "version": 3
   },
   "file_extension": ".py",
   "mimetype": "text/x-python",
   "name": "python",
   "nbconvert_exporter": "python",
   "pygments_lexer": "ipython3",
   "version": "3.8.16"
  },
  "orig_nbformat": 4
 },
 "nbformat": 4,
 "nbformat_minor": 2
}
